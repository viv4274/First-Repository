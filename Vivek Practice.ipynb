{
 "cells": [
  {
   "cell_type": "code",
   "execution_count": 12,
   "id": "952a7181",
   "metadata": {},
   "outputs": [
    {
     "name": "stdout",
     "output_type": "stream",
     "text": [
      "enter a comment:i love you\n",
      "i love you \n",
      "the length of the comment  is 10\n",
      "['i', 'love', 'you'] \n",
      "the length of the list is 3\n"
     ]
    }
   ],
   "source": [
    "str1 = str(input('enter a comment:'))\n",
    "print(f'{str1} \\nthe length of the comment  is {len(str1)}')\n",
    "cmt_lst = str1.split(' ')\n",
    "print(f'{cmt_lst} \\nthe length of the list is {len(cmt_lst)}')"
   ]
  },
  {
   "cell_type": "code",
   "execution_count": 17,
   "id": "e8cc08cf",
   "metadata": {},
   "outputs": [
    {
     "name": "stdout",
     "output_type": "stream",
     "text": [
      "['RAM', 'is', 'born', 'in', 'Delhi', 'on', '15-03-2020']\n",
      "15-03-2020\n",
      "['15', '03', '2020']\n",
      "Day:15 \n",
      "Month:03 \n",
      "Year:2020\n"
     ]
    }
   ],
   "source": [
    "msg = \"RAM is born in Delhi on 15-03-2020\"\n",
    "n_lst = msg.split(' ')\n",
    "print(n_lst)\n",
    "date1 = n_lst[-1]\n",
    "print(date1)\n",
    "m_date1 = date1.split('-')\n",
    "print(m_date1)\n",
    "print(f'Day:{m_date1[0]} \\nMonth:{m_date1[1]} \\nYear:{m_date1[2]}')"
   ]
  },
  {
   "cell_type": "code",
   "execution_count": 21,
   "id": "82f3e556",
   "metadata": {},
   "outputs": [
    {
     "name": "stdout",
     "output_type": "stream",
     "text": [
      "['OTP', 'sent', 'is', '8751', '', '', '', 'and', '', '', 'phone', '7123645899', 'and', 'nitish@gmail.com']\n",
      "Mobile Number:7123645899\n"
     ]
    }
   ],
   "source": [
    "word=\"OTP sent is 8751    and   phone 7123645899 and nitish@gmail.com\"\n",
    "wrd_lst = word.split(' ')\n",
    "print(wrd_lst)\n",
    "for i in range(0,len(wrd_lst)):\n",
    "    if wrd_lst[i].isdigit() and len(wrd_lst[i]) == 10:\n",
    "        print(f'Mobile Number:{wrd_lst[i]}')"
   ]
  },
  {
   "cell_type": "code",
   "execution_count": 31,
   "id": "dd7bdca9",
   "metadata": {},
   "outputs": [
    {
     "name": "stdout",
     "output_type": "stream",
     "text": [
      "['OTP', 'sent', 'is', '8751', '', '', '', 'and', '', '', 'phone', '7123645899', '/', '9654542410', 'and', 'nitish@gmail.com', 'and', 'arun@hotmail.com']\n",
      "['nitish@gmail.com', 'arun@hotmail.com']\n",
      "OTP-sent-is-8751----and---phone-7123645899-/-9654542410-and-nitish@gmail.com-and-arun@hotmail.com\n",
      "2309516409392\n"
     ]
    }
   ],
   "source": [
    "word=\"OTP sent is 8751    and   phone 7123645899 / 9654542410 and nitish@gmail.com and arun@hotmail.com\"\n",
    "lst2 = word.split(' ')\n",
    "print(lst2)\n",
    "store_mail = []\n",
    "for i in range(0,len(lst2)):\n",
    "    if not lst2[i].isalnum() and len(lst2[i]) > 1:\n",
    "        store_mail.append(lst2[i])\n",
    "print(store_mail)\n",
    "final_word = ('-').join(lst2)\n",
    "print(final_word)\n",
    "print(id(final_word))"
   ]
  },
  {
   "cell_type": "code",
   "execution_count": 32,
   "id": "d6a39638",
   "metadata": {},
   "outputs": [
    {
     "data": {
      "text/plain": [
       "'saturday'"
      ]
     },
     "execution_count": 32,
     "metadata": {},
     "output_type": "execute_result"
    }
   ],
   "source": [
    "['saturday','sunday'][0]"
   ]
  },
  {
   "cell_type": "code",
   "execution_count": 36,
   "id": "33d20ddd",
   "metadata": {},
   "outputs": [
    {
     "name": "stdout",
     "output_type": "stream",
     "text": [
      "enter number 1: 44\n",
      "enter number 2: 44\n",
      "number 1 is equal to number 2\n"
     ]
    }
   ],
   "source": [
    "a = int(input('enter number 1: '))\n",
    "b = int(input('enter number 2: '))\n",
    "print('number 1 is greater than number 2' if a>b else ('number 2 is greater than number 1' if a<b else 'number 1 is equal to number 2'))"
   ]
  },
  {
   "cell_type": "code",
   "execution_count": 66,
   "id": "18aa4911",
   "metadata": {},
   "outputs": [
    {
     "name": "stdout",
     "output_type": "stream",
     "text": [
      "['apple', 'pineapple', 'orange', 'custard apple', 'grpes', 'mango', 'banana']\n",
      "['apple', 'pineapple', 'custard apple']\n",
      "['APPLE', 'PINEAPPLE', 'orange', 'CUSTARD APPLE', 'grpes', 'mango', 'banana']\n"
     ]
    }
   ],
   "source": [
    "fruits = [\" applE\" , ' piNeapple ', \"oraNge\", \" CustaRd Apple \", \"grPES   \", \"       MANGo\", \" Banana \"]\n",
    "l_fruits = [i.lower().strip() for i in fruits]\n",
    "print(l_fruits)\n",
    "apple_fruits = [i for i in l_fruits if i.endswith('apple')]\n",
    "print(apple_fruits)\n",
    "apple1_fruits = [i.upper() if i.endswith('apple') else i.lower() for i in l_fruits]\n",
    "print(apple1_fruits)"
   ]
  },
  {
   "cell_type": "code",
   "execution_count": 5,
   "id": "c485817b",
   "metadata": {},
   "outputs": [
    {
     "name": "stdout",
     "output_type": "stream",
     "text": [
      "{'blue': [1, 2, 3, 4], 'orange': [11, 12, 13, 14], 'red': [21, 22, 23, 24], 'yellow': [31, 32, 33, 34]}\n",
      "   blue  orange  red  yellow\n",
      "0     1      11   21      31\n",
      "1     2      12   22      32\n",
      "2     3      13   23      33\n",
      "3     4      14   24      34\n"
     ]
    }
   ],
   "source": [
    "dt = {'blue': list(range(1,5)),\n",
    "     'orange': list(range(11,15)),\n",
    "     'red': list(range(21,25)),\n",
    "     'yellow': list(range(31,35))}\n",
    "print(dt)\n",
    "import pandas\n",
    "table = pandas.DataFrame(dt)\n",
    "print(table)"
   ]
  },
  {
   "cell_type": "code",
   "execution_count": 6,
   "id": "948e1dd4",
   "metadata": {},
   "outputs": [
    {
     "name": "stdout",
     "output_type": "stream",
     "text": [
      "Python is a high-level, general-purpose programming language. Its design philosophy emphasizes code readability with the use of significant indentation. Python is dynamically-typed and garbage-collected. It supports multiple programming paradigms, including structured, object-oriented and functional programming\n",
      "Java is a high-level, class-based, object-oriented programming language that is designed to have as few implementation dependencies as possible.\n",
      "Ruby is an interpreted, high-level, general-purpose programming language which supports multiple programming paradigms. It was designed with an emphasis on programming productivity and simplicity. In Ruby, everything is an object, including primitive data types\n"
     ]
    }
   ],
   "source": [
    "files = {'python':open('python.txt','r'),'java':open('java.txt','r'),'ruby':open('ruby.txt','r')}\n",
    "print(files['python'].read())\n",
    "print(files['java'].read())\n",
    "print(files['ruby'].read())"
   ]
  },
  {
   "cell_type": "code",
   "execution_count": 1,
   "id": "06cefc45",
   "metadata": {},
   "outputs": [
    {
     "name": "stdout",
     "output_type": "stream",
     "text": [
      "Palindrome\n"
     ]
    }
   ],
   "source": [
    "def palincheck(word):\n",
    "    return 'Palindrome' if word[::1] == word[::-1] else 'Not a palindrome'\n",
    "print(palincheck('madam'))"
   ]
  },
  {
   "cell_type": "code",
   "execution_count": 2,
   "id": "68eb0336",
   "metadata": {},
   "outputs": [
    {
     "name": "stdout",
     "output_type": "stream",
     "text": [
      "Palindrome\n"
     ]
    }
   ],
   "source": [
    "print(palincheck('naman'))"
   ]
  },
  {
   "cell_type": "code",
   "execution_count": 5,
   "id": "eb52a0f5",
   "metadata": {},
   "outputs": [
    {
     "name": "stdout",
     "output_type": "stream",
     "text": [
      "Even\n"
     ]
    }
   ],
   "source": [
    "def chkoddeven(num):\n",
    "    return 'Even' if num%2 == 0 else 'Odd'\n",
    "print(chkoddeven(24))"
   ]
  },
  {
   "cell_type": "code",
   "execution_count": 7,
   "id": "9e884224",
   "metadata": {},
   "outputs": [
    {
     "name": "stdout",
     "output_type": "stream",
     "text": [
      "enter a number:67\n",
      "Odd\n"
     ]
    }
   ],
   "source": [
    "print(chkoddeven(int(input('enter a number:'))))"
   ]
  },
  {
   "cell_type": "code",
   "execution_count": 1,
   "id": "bf8c0aec",
   "metadata": {},
   "outputs": [
    {
     "name": "stdout",
     "output_type": "stream",
     "text": [
      "Collecting emoji\n",
      "  Downloading emoji-2.2.0.tar.gz (240 kB)\n",
      "     -------------------------------------- 240.9/240.9 kB 1.1 MB/s eta 0:00:00\n",
      "  Preparing metadata (setup.py): started\n",
      "  Preparing metadata (setup.py): finished with status 'done'\n",
      "Building wheels for collected packages: emoji\n",
      "  Building wheel for emoji (setup.py): started\n",
      "  Building wheel for emoji (setup.py): finished with status 'done'\n",
      "  Created wheel for emoji: filename=emoji-2.2.0-py3-none-any.whl size=234912 sha256=e4ef48c6531933ea161696549c9f0460c9ae20f5eb5c6d00f473365aaa24a085\n",
      "  Stored in directory: c:\\users\\vivek\\appdata\\local\\pip\\cache\\wheels\\9a\\b8\\0f\\f580817231cbf59f6ade9fd132ff60ada1de9f7dc85521f857\n",
      "Successfully built emoji\n",
      "Installing collected packages: emoji\n",
      "Successfully installed emoji-2.2.0\n"
     ]
    }
   ],
   "source": [
    "!pip install emoji"
   ]
  },
  {
   "cell_type": "code",
   "execution_count": 2,
   "id": "1cf7cfcb",
   "metadata": {},
   "outputs": [
    {
     "data": {
      "text/plain": [
       "'1.21.5'"
      ]
     },
     "execution_count": 2,
     "metadata": {},
     "output_type": "execute_result"
    }
   ],
   "source": [
    "import numpy\n",
    "numpy.__version__"
   ]
  },
  {
   "cell_type": "code",
   "execution_count": 8,
   "id": "a43696ff",
   "metadata": {},
   "outputs": [
    {
     "name": "stdout",
     "output_type": "stream",
     "text": [
      "\"😠\"\n"
     ]
    }
   ],
   "source": [
    "import emoji\n",
    "emoji.__version__\n",
    "print(emoji.emojize('\":angry_face:\"'))"
   ]
  },
  {
   "cell_type": "code",
   "execution_count": 4,
   "id": "e9afefce",
   "metadata": {},
   "outputs": [
    {
     "name": "stdout",
     "output_type": "stream",
     "text": [
      "7\n"
     ]
    },
    {
     "ename": "NameError",
     "evalue": "name 'cmp' is not defined",
     "output_type": "error",
     "traceback": [
      "\u001b[1;31m---------------------------------------------------------------------------\u001b[0m",
      "\u001b[1;31mNameError\u001b[0m                                 Traceback (most recent call last)",
      "\u001b[1;32m~\\AppData\\Local\\Temp\\ipykernel_17972\\3726346296.py\u001b[0m in \u001b[0;36m<module>\u001b[1;34m\u001b[0m\n\u001b[0;32m      1\u001b[0m \u001b[0mprint\u001b[0m\u001b[1;33m(\u001b[0m\u001b[1;36m3\u001b[0m\u001b[1;33m^\u001b[0m\u001b[1;36m4\u001b[0m\u001b[1;33m)\u001b[0m\u001b[1;33m\u001b[0m\u001b[1;33m\u001b[0m\u001b[0m\n\u001b[1;32m----> 2\u001b[1;33m \u001b[0mcmp\u001b[0m\u001b[1;33m(\u001b[0m\u001b[1;36m3\u001b[0m\u001b[1;33m,\u001b[0m\u001b[1;36m1\u001b[0m\u001b[1;33m)\u001b[0m\u001b[1;33m\u001b[0m\u001b[1;33m\u001b[0m\u001b[0m\n\u001b[0m",
      "\u001b[1;31mNameError\u001b[0m: name 'cmp' is not defined"
     ]
    }
   ],
   "source": [
    "print(3^4)\n",
    "cmp(3,1)"
   ]
  },
  {
   "cell_type": "code",
   "execution_count": 5,
   "id": "9111d1fd",
   "metadata": {},
   "outputs": [
    {
     "name": "stdout",
     "output_type": "stream",
     "text": [
      "5\n"
     ]
    }
   ],
   "source": [
    "print(~~~~~~5)"
   ]
  },
  {
   "cell_type": "code",
   "execution_count": 4,
   "id": "057000aa",
   "metadata": {},
   "outputs": [
    {
     "name": "stdout",
     "output_type": "stream",
     "text": [
      "enter first side: 12\n",
      "enter second side: 12\n",
      "enter third side: 12\n",
      "its a isoceles triangle\n"
     ]
    }
   ],
   "source": [
    "x = float(input('enter first side: '))\n",
    "y = float(input('enter second side: '))\n",
    "z = float(input('enter third side: '))\n",
    "if x == y or x == z or y == z:\n",
    "    print('its a isoceles triangle')\n",
    "elif x == y and y == z and x == z:\n",
    "    print('its a equilateral triangle')\n",
    "else:\n",
    "    print('its a scalene triangle')"
   ]
  },
  {
   "cell_type": "code",
   "execution_count": 16,
   "id": "5e17b708",
   "metadata": {},
   "outputs": [
    {
     "data": {
      "text/plain": [
       "[100, 121, 9, 2500, 49, 196, 900]"
      ]
     },
     "execution_count": 16,
     "metadata": {},
     "output_type": "execute_result"
    }
   ],
   "source": [
    "mylist = [10,11,3,50,7,14,30]\n",
    "def mylistheck(x):\n",
    "    sqrlst = []\n",
    "    for i in mylist:\n",
    "        i = i**2\n",
    "        sqrlst.append(i)\n",
    "    return sqrlst\n",
    "mylistheck(x)"
   ]
  },
  {
   "cell_type": "code",
   "execution_count": 17,
   "id": "cefc206a",
   "metadata": {},
   "outputs": [
    {
     "name": "stdout",
     "output_type": "stream",
     "text": [
      "[100, 121, 9, 2500, 49, 196, 900]\n"
     ]
    }
   ],
   "source": [
    "print(mylistheck([10,11,3,50,7,14,30]))"
   ]
  },
  {
   "cell_type": "code",
   "execution_count": 27,
   "id": "c2f36d60",
   "metadata": {},
   "outputs": [
    {
     "name": "stdout",
     "output_type": "stream",
     "text": [
      "[' applE', ' piNeapple ', ' CustaRd Apple ']\n"
     ]
    }
   ],
   "source": [
    "## ## Q. Extract only apple ones...\n",
    "\n",
    "fruits = [\" applE\" , ' piNeapple ', \"oraNge\", \" CustaRd Apple \", \"grPES   \", \"       MANGo\", \" Banana \"]\n",
    "apples = lambda x : True if 'apple' in x.lower().strip()  else False\n",
    "print(list(filter(apples,fruits)))"
   ]
  },
  {
   "cell_type": "code",
   "execution_count": 25,
   "id": "b83bfa93",
   "metadata": {},
   "outputs": [
    {
     "name": "stdout",
     "output_type": "stream",
     "text": [
      "[' APPLE', ' PINEAPPLE ', 'orange', ' CUSTARD APPLE ', 'grpes', 'mango', 'banana']\n"
     ]
    }
   ],
   "source": [
    "fruits = [\" applE\" , ' piNeapple ', \"oraNge\", \" CustaRd Apple \", \"grPES   \", \"       MANGo\", \" Banana \"]\n",
    "apples = lambda x : x.upper() if 'apple' in x.lower().strip() else x.lower().strip()\n",
    "print(list(map(apples,fruits)))"
   ]
  },
  {
   "cell_type": "code",
   "execution_count": 8,
   "id": "483afbca",
   "metadata": {},
   "outputs": [
    {
     "name": "stdout",
     "output_type": "stream",
     "text": [
      "['   banana   ', 7584710258464, 'earth is 3rd planet', 'green ocean']\n"
     ]
    }
   ],
   "source": [
    "# Given a list of elements, find the ones having length more than 10.\n",
    "\n",
    "myList = [ \"apple\", \"   banana   \", 258515, False, 7584710258464, \"earth is 3rd planet\", \"green ocean\", \"larger\" ]\n",
    "newlst = lambda y : True if len(str(y))>10 else False\n",
    "print(list(filter(newlst,myList)))"
   ]
  },
  {
   "cell_type": "code",
   "execution_count": 10,
   "id": "ca66dc6d",
   "metadata": {},
   "outputs": [
    {
     "name": "stdout",
     "output_type": "stream",
     "text": [
      "['apple', 'BANANA', '258515', 'false', '7584710258464', 'EARTH IS 3RD PLANET', 'GREEN OCEAN', 'larger']\n"
     ]
    }
   ],
   "source": [
    "nlst = lambda z : str(z).upper().strip() if len(str(z))>10 else str(z).lower().strip()\n",
    "print(list(map(nlst,myList)))"
   ]
  },
  {
   "cell_type": "code",
   "execution_count": 22,
   "id": "aeea577b",
   "metadata": {},
   "outputs": [
    {
     "name": "stdout",
     "output_type": "stream",
     "text": [
      " Pattern Found :: ['9878745201', '7474852016', '8485120358']\n"
     ]
    }
   ],
   "source": [
    "# Q. find all the digits from the string\n",
    "\n",
    "import re\n",
    "\n",
    "stringName = \"\"\"\n",
    "87487\n",
    "847\n",
    "1025\n",
    "9878745201\n",
    "7474852016\n",
    "8485120358\n",
    "one\n",
    "two\n",
    "three\n",
    "four\n",
    "\"\"\"\n",
    "\n",
    "\n",
    "res = re.findall( r\"\\d{10,}\",  stringName )  \n",
    "\n",
    "\n",
    "if res : \n",
    "    print( f\" Pattern Found :: {res}\" )\n",
    "else :\n",
    "    print(\" ___ Not Such Word ___\")\n"
   ]
  },
  {
   "cell_type": "code",
   "execution_count": null,
   "id": "53b7db0c",
   "metadata": {},
   "outputs": [],
   "source": [
    "# Q. find all the digits from the string which are 10 char long\n",
    "\n",
    "# Q. find all the words that start with \"p\" and next char is y or o or x or s\n",
    "\n",
    "import re\n",
    "\n",
    "stringName = \"this is python programming and we made small pots to learn this platform keeps\"\n",
    "\n",
    "# res = re.findall( r\"py\\w*\", stringName )  \n",
    "# res = re.findall( r\"po\\w*\", stringName )  \n",
    "res = re.findall( r\"p[y,o,x,s]\\w*\", stringName )  \n",
    "res = re.findall( r\"\\bp[^o,l,s]\\w*\\b\", stringName ) # XX po_____ or pl_____ or ps_____  \n",
    "\n",
    "# Q. find all the DOB from the string\n",
    "\n",
    "import re\n",
    "\n",
    "stringName = \"\"\"\n",
    "Nitish : 22/12/96 \n",
    "Aditya : 14/06/93\n",
    "Jaya : 12-05-20\n",
    "Suman : 04-09-99\n",
    "\"\"\"\n",
    "\n",
    "[\"22/12/96\", \"14/06/93\", \"12-05-20\", \"04-09-99\"]\n",
    "\n",
    "res = re.findall( r\"\", stringName )  \n",
    "\n",
    "\n",
    "if res : \n",
    "    print( f\" Pattern Found :: {res}\" )\n",
    "else :\n",
    "    print(\" ___ Not Such Word ___\")\n"
   ]
  },
  {
   "cell_type": "code",
   "execution_count": null,
   "id": "87188eee",
   "metadata": {},
   "outputs": [],
   "source": []
  },
  {
   "cell_type": "code",
   "execution_count": null,
   "id": "efa4b89e",
   "metadata": {},
   "outputs": [],
   "source": []
  },
  {
   "cell_type": "code",
   "execution_count": null,
   "id": "03742f3e",
   "metadata": {},
   "outputs": [],
   "source": []
  },
  {
   "cell_type": "code",
   "execution_count": null,
   "id": "fc62e210",
   "metadata": {},
   "outputs": [],
   "source": []
  },
  {
   "cell_type": "code",
   "execution_count": null,
   "id": "e90fe4a5",
   "metadata": {},
   "outputs": [],
   "source": []
  },
  {
   "cell_type": "code",
   "execution_count": null,
   "id": "573dc529",
   "metadata": {},
   "outputs": [],
   "source": []
  },
  {
   "cell_type": "code",
   "execution_count": null,
   "id": "227f001f",
   "metadata": {},
   "outputs": [],
   "source": []
  }
 ],
 "metadata": {
  "kernelspec": {
   "display_name": "Python 3 (ipykernel)",
   "language": "python",
   "name": "python3"
  },
  "language_info": {
   "codemirror_mode": {
    "name": "ipython",
    "version": 3
   },
   "file_extension": ".py",
   "mimetype": "text/x-python",
   "name": "python",
   "nbconvert_exporter": "python",
   "pygments_lexer": "ipython3",
   "version": "3.9.13"
  }
 },
 "nbformat": 4,
 "nbformat_minor": 5
}
